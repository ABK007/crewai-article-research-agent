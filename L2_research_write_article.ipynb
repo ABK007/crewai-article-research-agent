{
 "cells": [
  {
   "cell_type": "markdown",
   "metadata": {},
   "source": [
    "You can download the `requirements.txt` for this course from the workspace of this lab. `File --> Open...`"
   ]
  },
  {
   "cell_type": "markdown",
   "metadata": {},
   "source": [
    "# L2: Create Agents to Research and Write an Article\n",
    "\n",
    "In this lesson, you will be introduced to the foundational concepts of multi-agent systems and get an overview of the crewAI framework."
   ]
  },
  {
   "cell_type": "markdown",
   "metadata": {},
   "source": [
    "The libraries are already installed in the classroom. If you're running this notebook on your own machine, you can install the following:\n",
    "```Python\n",
    "!pip install crewai==0.28.8 crewai_tools==0.1.6 langchain_community==0.0.29\n",
    "```"
   ]
  },
  {
   "cell_type": "code",
   "execution_count": 1,
   "metadata": {
    "height": 64
   },
   "outputs": [],
   "source": [
    "# Warning control\n",
    "import warnings\n",
    "warnings.filterwarnings('ignore')"
   ]
  },
  {
   "cell_type": "markdown",
   "metadata": {},
   "source": [
    "- Import from the crewAI libray."
   ]
  },
  {
   "cell_type": "code",
   "execution_count": 2,
   "metadata": {
    "height": 30
   },
   "outputs": [],
   "source": [
    "from crewai import Agent, Task, Crew"
   ]
  },
  {
   "cell_type": "markdown",
   "metadata": {},
   "source": [
    "- As a LLM for your agents, you'll be using OpenAI's `gpt-3.5-turbo`.\n",
    "\n",
    "**Optional Note:** crewAI also allow other popular models to be used as a LLM for your Agents. You can see some of the examples at the [bottom of the notebook](#1)."
   ]
  },
  {
   "cell_type": "code",
   "execution_count": 3,
   "metadata": {
    "height": 98
   },
   "outputs": [],
   "source": [
    "import os\n",
    "from utils import get_openai_api_key\n",
    "\n",
    "openai_api_key = get_openai_api_key()\n",
    "os.environ[\"OPENAI_MODEL_NAME\"] = 'gpt-3.5-turbo'"
   ]
  },
  {
   "cell_type": "markdown",
   "metadata": {},
   "source": [
    "## Creating Agents\n",
    "\n",
    "- Define your Agents, and provide them a `role`, `goal` and `backstory`.\n",
    "- It has been seen that LLMs perform better when they are role playing."
   ]
  },
  {
   "cell_type": "markdown",
   "metadata": {},
   "source": [
    "### Agent: Planner\n",
    "\n",
    "**Note**: The benefit of using _multiple strings_ :\n",
    "```Python\n",
    "varname = \"line 1 of text\"\n",
    "          \"line 2 of text\"\n",
    "```\n",
    "\n",
    "versus the _triple quote docstring_:\n",
    "```Python\n",
    "varname = \"\"\"line 1 of text\n",
    "             line 2 of text\n",
    "          \"\"\"\n",
    "```\n",
    "is that it can avoid adding those whitespaces and newline characters, making it better formatted to be passed to the LLM."
   ]
  },
  {
   "cell_type": "code",
   "execution_count": 4,
   "metadata": {
    "height": 234
   },
   "outputs": [],
   "source": [
    "planner = Agent(\n",
    "    role=\"Content Planner\",\n",
    "    goal=\"Plan engaging and factually accurate content on {topic}\",\n",
    "    backstory=\"You're working on planning a blog article \"\n",
    "              \"about the topic: {topic}.\"\n",
    "              \"You collect information that helps the \"\n",
    "              \"audience learn something \"\n",
    "              \"and make informed decisions. \"\n",
    "              \"Your work is the basis for \"\n",
    "              \"the Content Writer to write an article on this topic.\",\n",
    "    allow_delegation=False,\n",
    "\tverbose=True\n",
    ")"
   ]
  },
  {
   "cell_type": "markdown",
   "metadata": {},
   "source": [
    "### Agent: Writer"
   ]
  },
  {
   "cell_type": "code",
   "execution_count": 5,
   "metadata": {
    "height": 370
   },
   "outputs": [],
   "source": [
    "writer = Agent(\n",
    "    role=\"Content Writer\",\n",
    "    goal=\"Write insightful and factually accurate \"\n",
    "         \"opinion piece about the topic: {topic}\",\n",
    "    backstory=\"You're working on a writing \"\n",
    "              \"a new opinion piece about the topic: {topic}. \"\n",
    "              \"You base your writing on the work of \"\n",
    "              \"the Content Planner, who provides an outline \"\n",
    "              \"and relevant context about the topic. \"\n",
    "              \"You follow the main objectives and \"\n",
    "              \"direction of the outline, \"\n",
    "              \"as provide by the Content Planner. \"\n",
    "              \"You also provide objective and impartial insights \"\n",
    "              \"and back them up with information \"\n",
    "              \"provide by the Content Planner. \"\n",
    "              \"You acknowledge in your opinion piece \"\n",
    "              \"when your statements are opinions \"\n",
    "              \"as opposed to objective statements.\",\n",
    "    allow_delegation=False,\n",
    "    verbose=True\n",
    ")"
   ]
  },
  {
   "cell_type": "markdown",
   "metadata": {},
   "source": [
    "### Agent: Editor"
   ]
  },
  {
   "cell_type": "code",
   "execution_count": 6,
   "metadata": {
    "height": 268
   },
   "outputs": [],
   "source": [
    "editor = Agent(\n",
    "    role=\"Editor\",\n",
    "    goal=\"Edit a given blog post to align with \"\n",
    "         \"the writing style of the organization. \",\n",
    "    backstory=\"You are an editor who receives a blog post \"\n",
    "              \"from the Content Writer. \"\n",
    "              \"Your goal is to review the blog post \"\n",
    "              \"to ensure that it follows journalistic best practices,\"\n",
    "              \"provides balanced viewpoints \"\n",
    "              \"when providing opinions or assertions, \"\n",
    "              \"and also avoids major controversial topics \"\n",
    "              \"or opinions when possible.\",\n",
    "    allow_delegation=False,\n",
    "    verbose=True\n",
    ")"
   ]
  },
  {
   "cell_type": "markdown",
   "metadata": {},
   "source": [
    "## Creating Tasks\n",
    "\n",
    "- Define your Tasks, and provide them a `description`, `expected_output` and `agent`."
   ]
  },
  {
   "cell_type": "markdown",
   "metadata": {},
   "source": [
    "### Task: Plan"
   ]
  },
  {
   "cell_type": "code",
   "execution_count": 7,
   "metadata": {
    "height": 268
   },
   "outputs": [],
   "source": [
    "plan = Task(\n",
    "    description=(\n",
    "        \"1. Prioritize the latest trends, key players, \"\n",
    "            \"and noteworthy news on {topic}.\\n\"\n",
    "        \"2. Identify the target audience, considering \"\n",
    "            \"their interests and pain points.\\n\"\n",
    "        \"3. Develop a detailed content outline including \"\n",
    "            \"an introduction, key points, and a call to action.\\n\"\n",
    "        \"4. Include SEO keywords and relevant data or sources.\"\n",
    "    ),\n",
    "    expected_output=\"A comprehensive content plan document \"\n",
    "        \"with an outline, audience analysis, \"\n",
    "        \"SEO keywords, and resources.\",\n",
    "    agent=planner,\n",
    ")"
   ]
  },
  {
   "cell_type": "markdown",
   "metadata": {},
   "source": [
    "### Task: Write"
   ]
  },
  {
   "cell_type": "code",
   "execution_count": 8,
   "metadata": {
    "height": 319
   },
   "outputs": [],
   "source": [
    "write = Task(\n",
    "    description=(\n",
    "        \"1. Use the content plan to craft a compelling \"\n",
    "            \"blog post on {topic}.\\n\"\n",
    "        \"2. Incorporate SEO keywords naturally.\\n\"\n",
    "\t\t\"3. Sections/Subtitles are properly named \"\n",
    "            \"in an engaging manner.\\n\"\n",
    "        \"4. Ensure the post is structured with an \"\n",
    "            \"engaging introduction, insightful body, \"\n",
    "            \"and a summarizing conclusion.\\n\"\n",
    "        \"5. Proofread for grammatical errors and \"\n",
    "            \"alignment with the brand's voice.\\n\"\n",
    "    ),\n",
    "    expected_output=\"A well-written blog post \"\n",
    "        \"in markdown format, ready for publication, \"\n",
    "        \"each section should have 2 or 3 paragraphs.\",\n",
    "    agent=writer,\n",
    ")"
   ]
  },
  {
   "cell_type": "markdown",
   "metadata": {},
   "source": [
    "### Task: Edit"
   ]
  },
  {
   "cell_type": "code",
   "execution_count": 9,
   "metadata": {
    "height": 166
   },
   "outputs": [],
   "source": [
    "edit = Task(\n",
    "    description=(\"Proofread the given blog post for \"\n",
    "                 \"grammatical errors and \"\n",
    "                 \"alignment with the brand's voice.\"),\n",
    "    expected_output=\"A well-written blog post in markdown format, \"\n",
    "                    \"ready for publication, \"\n",
    "                    \"each section should have 2 or 3 paragraphs.\",\n",
    "    agent=editor\n",
    ")"
   ]
  },
  {
   "cell_type": "markdown",
   "metadata": {},
   "source": [
    "## Creating the Crew\n",
    "\n",
    "- Create your crew of Agents\n",
    "- Pass the tasks to be performed by those agents.\n",
    "    - **Note**: *For this simple example*, the tasks will be performed sequentially (i.e they are dependent on each other), so the _order_ of the task in the list _matters_.\n",
    "- `verbose=2` allows you to see all the logs of the execution. "
   ]
  },
  {
   "cell_type": "code",
   "execution_count": 10,
   "metadata": {
    "height": 98
   },
   "outputs": [],
   "source": [
    "crew = Crew(\n",
    "    agents=[planner, writer, editor],\n",
    "    tasks=[plan, write, edit],\n",
    "    verbose=2\n",
    ")"
   ]
  },
  {
   "cell_type": "markdown",
   "metadata": {},
   "source": [
    "## Running the Crew"
   ]
  },
  {
   "cell_type": "markdown",
   "metadata": {},
   "source": [
    "**Note**: LLMs can provide different outputs for they same input, so what you get might be different than what you see in the video."
   ]
  },
  {
   "cell_type": "code",
   "execution_count": 11,
   "metadata": {
    "height": 30
   },
   "outputs": [
    {
     "name": "stdout",
     "output_type": "stream",
     "text": [
      "\u001b[1m\u001b[95m [DEBUG]: == Working Agent: Content Planner\u001b[00m\n",
      "\u001b[1m\u001b[95m [INFO]: == Starting Task: 1. Prioritize the latest trends, key players, and noteworthy news on Artificial Intelligence.\n",
      "2. Identify the target audience, considering their interests and pain points.\n",
      "3. Develop a detailed content outline including an introduction, key points, and a call to action.\n",
      "4. Include SEO keywords and relevant data or sources.\u001b[00m\n",
      "\n",
      "\n",
      "\u001b[1m> Entering new CrewAgentExecutor chain...\u001b[0m\n",
      "\u001b[32;1m\u001b[1;3mI now can give a great answer\n",
      "\n",
      "Final Answer: \n",
      "\n",
      "Title: Unveiling the Power of Artificial Intelligence: Latest Trends, Key Players, and Noteworthy News\n",
      "\n",
      "Introduction:\n",
      "- Definition of Artificial Intelligence (AI) and its significance in today's technological landscape\n",
      "- Brief overview of the latest trends, key players, and noteworthy news in the AI industry\n",
      "\n",
      "Key Points:\n",
      "1. Latest Trends in Artificial Intelligence:\n",
      "- Machine learning advancements and the rise of deep learning algorithms\n",
      "- The integration of AI in various industries such as healthcare, finance, and transportation\n",
      "- The emergence of AI-powered virtual assistants and chatbots\n",
      "\n",
      "2. Key Players in Artificial Intelligence:\n",
      "- Leading companies in the AI space such as Google, Amazon, Microsoft, and IBM\n",
      "- Startups making waves with innovative AI solutions\n",
      "- Research institutions and academic centers driving AI research and development\n",
      "\n",
      "3. Noteworthy News in Artificial Intelligence:\n",
      "- Breakthroughs in AI ethics and responsible AI development\n",
      "- The impact of AI on job automation and workforce transformation\n",
      "- Regulatory developments and challenges in AI governance\n",
      "\n",
      "Audience Analysis:\n",
      "- Target Audience: Professionals in the technology industry, AI enthusiasts, business leaders looking to leverage AI solutions\n",
      "- Interests: Staying updated on the latest developments in AI, understanding the practical applications of AI in different sectors\n",
      "- Pain Points: Concerns about the ethical implications of AI, challenges in implementing AI solutions in their organizations\n",
      "\n",
      "SEO Keywords:\n",
      "- Artificial Intelligence trends 2021\n",
      "- Top AI companies\n",
      "- AI news and updates\n",
      "- Machine learning advancements\n",
      "- AI applications in healthcare\n",
      "\n",
      "Call to Action:\n",
      "- Encourage readers to stay informed about AI developments by subscribing to newsletters or following industry-leading AI blogs\n",
      "- Prompt them to explore AI solutions for their businesses or personal projects\n",
      "- Invite them to engage in discussions about the future of AI on social media platforms or industry forums\n",
      "\n",
      "Resources:\n",
      "1. \"The State of AI in 2021\" report by McKinsey & Company\n",
      "2. \"Top AI Companies to Watch in 2021\" article by Forbes\n",
      "3. \"Ethical AI Principles\" guidelines by the AI for Good Foundation\n",
      "\n",
      "By following this comprehensive content plan, the blog article on Artificial Intelligence will provide valuable insights to the target audience while also optimizing for SEO and including relevant data and sources.\u001b[0m\n",
      "\n",
      "\u001b[1m> Finished chain.\u001b[0m\n",
      "\u001b[1m\u001b[92m [DEBUG]: == [Content Planner] Task output: Title: Unveiling the Power of Artificial Intelligence: Latest Trends, Key Players, and Noteworthy News\n",
      "\n",
      "Introduction:\n",
      "- Definition of Artificial Intelligence (AI) and its significance in today's technological landscape\n",
      "- Brief overview of the latest trends, key players, and noteworthy news in the AI industry\n",
      "\n",
      "Key Points:\n",
      "1. Latest Trends in Artificial Intelligence:\n",
      "- Machine learning advancements and the rise of deep learning algorithms\n",
      "- The integration of AI in various industries such as healthcare, finance, and transportation\n",
      "- The emergence of AI-powered virtual assistants and chatbots\n",
      "\n",
      "2. Key Players in Artificial Intelligence:\n",
      "- Leading companies in the AI space such as Google, Amazon, Microsoft, and IBM\n",
      "- Startups making waves with innovative AI solutions\n",
      "- Research institutions and academic centers driving AI research and development\n",
      "\n",
      "3. Noteworthy News in Artificial Intelligence:\n",
      "- Breakthroughs in AI ethics and responsible AI development\n",
      "- The impact of AI on job automation and workforce transformation\n",
      "- Regulatory developments and challenges in AI governance\n",
      "\n",
      "Audience Analysis:\n",
      "- Target Audience: Professionals in the technology industry, AI enthusiasts, business leaders looking to leverage AI solutions\n",
      "- Interests: Staying updated on the latest developments in AI, understanding the practical applications of AI in different sectors\n",
      "- Pain Points: Concerns about the ethical implications of AI, challenges in implementing AI solutions in their organizations\n",
      "\n",
      "SEO Keywords:\n",
      "- Artificial Intelligence trends 2021\n",
      "- Top AI companies\n",
      "- AI news and updates\n",
      "- Machine learning advancements\n",
      "- AI applications in healthcare\n",
      "\n",
      "Call to Action:\n",
      "- Encourage readers to stay informed about AI developments by subscribing to newsletters or following industry-leading AI blogs\n",
      "- Prompt them to explore AI solutions for their businesses or personal projects\n",
      "- Invite them to engage in discussions about the future of AI on social media platforms or industry forums\n",
      "\n",
      "Resources:\n",
      "1. \"The State of AI in 2021\" report by McKinsey & Company\n",
      "2. \"Top AI Companies to Watch in 2021\" article by Forbes\n",
      "3. \"Ethical AI Principles\" guidelines by the AI for Good Foundation\n",
      "\n",
      "By following this comprehensive content plan, the blog article on Artificial Intelligence will provide valuable insights to the target audience while also optimizing for SEO and including relevant data and sources.\n",
      "\n",
      "\u001b[00m\n",
      "\u001b[1m\u001b[95m [DEBUG]: == Working Agent: Content Writer\u001b[00m\n",
      "\u001b[1m\u001b[95m [INFO]: == Starting Task: 1. Use the content plan to craft a compelling blog post on Artificial Intelligence.\n",
      "2. Incorporate SEO keywords naturally.\n",
      "3. Sections/Subtitles are properly named in an engaging manner.\n",
      "4. Ensure the post is structured with an engaging introduction, insightful body, and a summarizing conclusion.\n",
      "5. Proofread for grammatical errors and alignment with the brand's voice.\n",
      "\u001b[00m\n",
      "\n",
      "\n",
      "\u001b[1m> Entering new CrewAgentExecutor chain...\u001b[0m\n",
      "\u001b[32;1m\u001b[1;3mI now can give a great answer\n",
      "\n",
      "Final Answer:\n",
      "\n",
      "# Unveiling the Power of Artificial Intelligence: Latest Trends, Key Players, and Noteworthy News\n",
      "\n",
      "In today's rapidly evolving technological landscape, Artificial Intelligence (AI) stands out as a game-changer, revolutionizing various industries and shaping the future of innovation. AI, the simulation of human intelligence processes by machines, has been at the forefront of cutting-edge developments, driving unprecedented advancements in machine learning and deep learning algorithms.\n",
      "\n",
      "## Latest Trends in Artificial Intelligence\n",
      "\n",
      "One of the most significant trends in AI is the continuous evolution of machine learning techniques, enabling computers to learn from data and make decisions without explicit programming. This has paved the way for the rise of deep learning algorithms, which mimic the human brain's neural networks to achieve remarkable feats in speech recognition, image classification, and natural language processing.\n",
      "\n",
      "Moreover, the integration of AI across different sectors such as healthcare, finance, and transportation has been transformative. From personalized medicine and predictive analytics to fraud detection and autonomous vehicles, AI-powered solutions are reshaping the way industries operate, enhancing efficiency, and driving innovation.\n",
      "\n",
      "The emergence of AI-powered virtual assistants and chatbots has also been a notable trend, revolutionizing customer service and communication channels. Virtual assistants like Siri, Alexa, and Google Assistant have become integral parts of daily life, streamlining tasks and providing personalized recommendations based on user interactions.\n",
      "\n",
      "## Key Players in Artificial Intelligence\n",
      "\n",
      "Leading the charge in the AI landscape are tech giants like Google, Amazon, Microsoft, and IBM, investing heavily in AI research and development to drive innovation and create impactful solutions. These companies are leveraging AI to enhance their products and services, from smart algorithms powering search engines to intelligent cloud computing platforms.\n",
      "\n",
      "Alongside established players, startups are making waves with innovative AI solutions, disrupting traditional industries and driving technological advancements. These nimble and agile companies are pushing the boundaries of AI applications, from predictive analytics in finance to personalized healthcare solutions, showcasing the potential of AI-driven innovation.\n",
      "\n",
      "Furthermore, research institutions and academic centers play a crucial role in driving AI research forward, fostering collaboration and knowledge-sharing to propel the field towards new breakthroughs. From cutting-edge research in neural networks to ethical considerations in AI development, these institutions are shaping the future of AI and its impact on society.\n",
      "\n",
      "## Noteworthy News in Artificial Intelligence\n",
      "\n",
      "In the realm of AI ethics and responsible AI development, breakthroughs are being made to ensure that AI technologies are developed and deployed ethically and transparently. Initiatives such as the AI for Good Foundation's \"Ethical AI Principles\" provide guidelines for ethical AI implementation, promoting fairness, accountability, and transparency in AI systems.\n",
      "\n",
      "The impact of AI on job automation and workforce transformation continues to be a topic of discussion, with concerns about job displacement and the need for upskilling and reskilling in the workforce. As AI technologies automate routine tasks, organizations are faced with the challenge of adapting to the changing landscape and ensuring a smooth transition for employees.\n",
      "\n",
      "Moreover, regulatory developments and challenges in AI governance are shaping the future of AI policy and practice, with governments and industry stakeholders working together to establish frameworks for responsible AI use. From data privacy regulations to algorithmic transparency requirements, the regulatory landscape is evolving to address the ethical and legal implications of AI technologies.\n",
      "\n",
      "In conclusion, Artificial Intelligence is a driving force of innovation and transformation, with the latest trends, key players, and noteworthy news shaping the future of AI applications across industries. As professionals in the technology industry, AI enthusiasts, and business leaders look to leverage AI solutions, staying informed about the latest developments and understanding the practical applications of AI will be crucial in navigating the evolving landscape of AI technology.\n",
      "\n",
      "Remember to subscribe to newsletters or follow industry-leading AI blogs, explore AI solutions for your businesses or personal projects, and engage in discussions about the future of AI on social media platforms or industry forums to stay ahead of the curve in the world of Artificial Intelligence.\u001b[0m\n",
      "\n",
      "\u001b[1m> Finished chain.\u001b[0m\n",
      "\u001b[1m\u001b[92m [DEBUG]: == [Content Writer] Task output: # Unveiling the Power of Artificial Intelligence: Latest Trends, Key Players, and Noteworthy News\n",
      "\n",
      "In today's rapidly evolving technological landscape, Artificial Intelligence (AI) stands out as a game-changer, revolutionizing various industries and shaping the future of innovation. AI, the simulation of human intelligence processes by machines, has been at the forefront of cutting-edge developments, driving unprecedented advancements in machine learning and deep learning algorithms.\n",
      "\n",
      "## Latest Trends in Artificial Intelligence\n",
      "\n",
      "One of the most significant trends in AI is the continuous evolution of machine learning techniques, enabling computers to learn from data and make decisions without explicit programming. This has paved the way for the rise of deep learning algorithms, which mimic the human brain's neural networks to achieve remarkable feats in speech recognition, image classification, and natural language processing.\n",
      "\n",
      "Moreover, the integration of AI across different sectors such as healthcare, finance, and transportation has been transformative. From personalized medicine and predictive analytics to fraud detection and autonomous vehicles, AI-powered solutions are reshaping the way industries operate, enhancing efficiency, and driving innovation.\n",
      "\n",
      "The emergence of AI-powered virtual assistants and chatbots has also been a notable trend, revolutionizing customer service and communication channels. Virtual assistants like Siri, Alexa, and Google Assistant have become integral parts of daily life, streamlining tasks and providing personalized recommendations based on user interactions.\n",
      "\n",
      "## Key Players in Artificial Intelligence\n",
      "\n",
      "Leading the charge in the AI landscape are tech giants like Google, Amazon, Microsoft, and IBM, investing heavily in AI research and development to drive innovation and create impactful solutions. These companies are leveraging AI to enhance their products and services, from smart algorithms powering search engines to intelligent cloud computing platforms.\n",
      "\n",
      "Alongside established players, startups are making waves with innovative AI solutions, disrupting traditional industries and driving technological advancements. These nimble and agile companies are pushing the boundaries of AI applications, from predictive analytics in finance to personalized healthcare solutions, showcasing the potential of AI-driven innovation.\n",
      "\n",
      "Furthermore, research institutions and academic centers play a crucial role in driving AI research forward, fostering collaboration and knowledge-sharing to propel the field towards new breakthroughs. From cutting-edge research in neural networks to ethical considerations in AI development, these institutions are shaping the future of AI and its impact on society.\n",
      "\n",
      "## Noteworthy News in Artificial Intelligence\n",
      "\n",
      "In the realm of AI ethics and responsible AI development, breakthroughs are being made to ensure that AI technologies are developed and deployed ethically and transparently. Initiatives such as the AI for Good Foundation's \"Ethical AI Principles\" provide guidelines for ethical AI implementation, promoting fairness, accountability, and transparency in AI systems.\n",
      "\n",
      "The impact of AI on job automation and workforce transformation continues to be a topic of discussion, with concerns about job displacement and the need for upskilling and reskilling in the workforce. As AI technologies automate routine tasks, organizations are faced with the challenge of adapting to the changing landscape and ensuring a smooth transition for employees.\n",
      "\n",
      "Moreover, regulatory developments and challenges in AI governance are shaping the future of AI policy and practice, with governments and industry stakeholders working together to establish frameworks for responsible AI use. From data privacy regulations to algorithmic transparency requirements, the regulatory landscape is evolving to address the ethical and legal implications of AI technologies.\n",
      "\n",
      "In conclusion, Artificial Intelligence is a driving force of innovation and transformation, with the latest trends, key players, and noteworthy news shaping the future of AI applications across industries. As professionals in the technology industry, AI enthusiasts, and business leaders look to leverage AI solutions, staying informed about the latest developments and understanding the practical applications of AI will be crucial in navigating the evolving landscape of AI technology.\n",
      "\n",
      "Remember to subscribe to newsletters or follow industry-leading AI blogs, explore AI solutions for your businesses or personal projects, and engage in discussions about the future of AI on social media platforms or industry forums to stay ahead of the curve in the world of Artificial Intelligence.\n",
      "\n",
      "\u001b[00m\n",
      "\u001b[1m\u001b[95m [DEBUG]: == Working Agent: Editor\u001b[00m\n",
      "\u001b[1m\u001b[95m [INFO]: == Starting Task: Proofread the given blog post for grammatical errors and alignment with the brand's voice.\u001b[00m\n",
      "\n",
      "\n",
      "\u001b[1m> Entering new CrewAgentExecutor chain...\u001b[0m\n"
     ]
    },
    {
     "name": "stdout",
     "output_type": "stream",
     "text": [
      "\u001b[32;1m\u001b[1;3mI now can give a great answer\n",
      "\n",
      "Final Answer: \n",
      "\n",
      "# Unveiling the Power of Artificial Intelligence: Latest Trends, Key Players, and Noteworthy News\n",
      "\n",
      "In today's rapidly evolving technological landscape, Artificial Intelligence (AI) stands out as a game-changer, revolutionizing various industries and shaping the future of innovation. AI, the simulation of human intelligence processes by machines, has been at the forefront of cutting-edge developments, driving unprecedented advancements in machine learning and deep learning algorithms.\n",
      "\n",
      "## Latest Trends in Artificial Intelligence\n",
      "\n",
      "One of the most significant trends in AI is the continuous evolution of machine learning techniques, enabling computers to learn from data and make decisions without explicit programming. This has paved the way for the rise of deep learning algorithms, which mimic the human brain's neural networks to achieve remarkable feats in speech recognition, image classification, and natural language processing.\n",
      "\n",
      "Moreover, the integration of AI across different sectors such as healthcare, finance, and transportation has been transformative. From personalized medicine and predictive analytics to fraud detection and autonomous vehicles, AI-powered solutions are reshaping the way industries operate, enhancing efficiency, and driving innovation.\n",
      "\n",
      "## Key Players in Artificial Intelligence\n",
      "\n",
      "Leading the charge in the AI landscape are tech giants like Google, Amazon, Microsoft, and IBM, investing heavily in AI research and development to drive innovation and create impactful solutions. These companies are leveraging AI to enhance their products and services, from smart algorithms powering search engines to intelligent cloud computing platforms.\n",
      "\n",
      "Alongside established players, startups are making waves with innovative AI solutions, disrupting traditional industries and driving technological advancements. These nimble and agile companies are pushing the boundaries of AI applications, from predictive analytics in finance to personalized healthcare solutions, showcasing the potential of AI-driven innovation.\n",
      "\n",
      "Furthermore, research institutions and academic centers play a crucial role in driving AI research forward, fostering collaboration and knowledge-sharing to propel the field towards new breakthroughs. From cutting-edge research in neural networks to ethical considerations in AI development, these institutions are shaping the future of AI and its impact on society.\n",
      "\n",
      "## Noteworthy News in Artificial Intelligence\n",
      "\n",
      "In the realm of AI ethics and responsible AI development, breakthroughs are being made to ensure that AI technologies are developed and deployed ethically and transparently. Initiatives such as the AI for Good Foundation's \"Ethical AI Principles\" provide guidelines for ethical AI implementation, promoting fairness, accountability, and transparency in AI systems.\n",
      "\n",
      "The impact of AI on job automation and workforce transformation continues to be a topic of discussion, with concerns about job displacement and the need for upskilling and reskilling in the workforce. As AI technologies automate routine tasks, organizations are faced with the challenge of adapting to the changing landscape and ensuring a smooth transition for employees.\n",
      "\n",
      "Moreover, regulatory developments and challenges in AI governance are shaping the future of AI policy and practice, with governments and industry stakeholders working together to establish frameworks for responsible AI use. From data privacy regulations to algorithmic transparency requirements, the regulatory landscape is evolving to address the ethical and legal implications of AI technologies.\n",
      "\n",
      "In conclusion, Artificial Intelligence is a driving force of innovation and transformation, with the latest trends, key players, and noteworthy news shaping the future of AI applications across industries. As professionals in the technology industry, AI enthusiasts, and business leaders look to leverage AI solutions, staying informed about the latest developments and understanding the practical applications of AI will be crucial in navigating the evolving landscape of AI technology.\n",
      "\n",
      "Remember to subscribe to newsletters or follow industry-leading AI blogs, explore AI solutions for your businesses or personal projects, and engage in discussions about the future of AI on social media platforms or industry forums to stay ahead of the curve in the world of Artificial Intelligence.\u001b[0m\n",
      "\n",
      "\u001b[1m> Finished chain.\u001b[0m\n",
      "\u001b[1m\u001b[92m [DEBUG]: == [Editor] Task output: # Unveiling the Power of Artificial Intelligence: Latest Trends, Key Players, and Noteworthy News\n",
      "\n",
      "In today's rapidly evolving technological landscape, Artificial Intelligence (AI) stands out as a game-changer, revolutionizing various industries and shaping the future of innovation. AI, the simulation of human intelligence processes by machines, has been at the forefront of cutting-edge developments, driving unprecedented advancements in machine learning and deep learning algorithms.\n",
      "\n",
      "## Latest Trends in Artificial Intelligence\n",
      "\n",
      "One of the most significant trends in AI is the continuous evolution of machine learning techniques, enabling computers to learn from data and make decisions without explicit programming. This has paved the way for the rise of deep learning algorithms, which mimic the human brain's neural networks to achieve remarkable feats in speech recognition, image classification, and natural language processing.\n",
      "\n",
      "Moreover, the integration of AI across different sectors such as healthcare, finance, and transportation has been transformative. From personalized medicine and predictive analytics to fraud detection and autonomous vehicles, AI-powered solutions are reshaping the way industries operate, enhancing efficiency, and driving innovation.\n",
      "\n",
      "## Key Players in Artificial Intelligence\n",
      "\n",
      "Leading the charge in the AI landscape are tech giants like Google, Amazon, Microsoft, and IBM, investing heavily in AI research and development to drive innovation and create impactful solutions. These companies are leveraging AI to enhance their products and services, from smart algorithms powering search engines to intelligent cloud computing platforms.\n",
      "\n",
      "Alongside established players, startups are making waves with innovative AI solutions, disrupting traditional industries and driving technological advancements. These nimble and agile companies are pushing the boundaries of AI applications, from predictive analytics in finance to personalized healthcare solutions, showcasing the potential of AI-driven innovation.\n",
      "\n",
      "Furthermore, research institutions and academic centers play a crucial role in driving AI research forward, fostering collaboration and knowledge-sharing to propel the field towards new breakthroughs. From cutting-edge research in neural networks to ethical considerations in AI development, these institutions are shaping the future of AI and its impact on society.\n",
      "\n",
      "## Noteworthy News in Artificial Intelligence\n",
      "\n",
      "In the realm of AI ethics and responsible AI development, breakthroughs are being made to ensure that AI technologies are developed and deployed ethically and transparently. Initiatives such as the AI for Good Foundation's \"Ethical AI Principles\" provide guidelines for ethical AI implementation, promoting fairness, accountability, and transparency in AI systems.\n",
      "\n",
      "The impact of AI on job automation and workforce transformation continues to be a topic of discussion, with concerns about job displacement and the need for upskilling and reskilling in the workforce. As AI technologies automate routine tasks, organizations are faced with the challenge of adapting to the changing landscape and ensuring a smooth transition for employees.\n",
      "\n",
      "Moreover, regulatory developments and challenges in AI governance are shaping the future of AI policy and practice, with governments and industry stakeholders working together to establish frameworks for responsible AI use. From data privacy regulations to algorithmic transparency requirements, the regulatory landscape is evolving to address the ethical and legal implications of AI technologies.\n",
      "\n",
      "In conclusion, Artificial Intelligence is a driving force of innovation and transformation, with the latest trends, key players, and noteworthy news shaping the future of AI applications across industries. As professionals in the technology industry, AI enthusiasts, and business leaders look to leverage AI solutions, staying informed about the latest developments and understanding the practical applications of AI will be crucial in navigating the evolving landscape of AI technology.\n",
      "\n",
      "Remember to subscribe to newsletters or follow industry-leading AI blogs, explore AI solutions for your businesses or personal projects, and engage in discussions about the future of AI on social media platforms or industry forums to stay ahead of the curve in the world of Artificial Intelligence.\n",
      "\n",
      "\u001b[00m\n"
     ]
    }
   ],
   "source": [
    "result = crew.kickoff(inputs={\"topic\": \"Artificial Intelligence\"})"
   ]
  },
  {
   "cell_type": "markdown",
   "metadata": {},
   "source": [
    "- Display the results of your execution as markdown in the notebook."
   ]
  },
  {
   "cell_type": "code",
   "execution_count": 12,
   "metadata": {
    "height": 47
   },
   "outputs": [
    {
     "data": {
      "text/markdown": [
       "# Unveiling the Power of Artificial Intelligence: Latest Trends, Key Players, and Noteworthy News\n",
       "\n",
       "In today's rapidly evolving technological landscape, Artificial Intelligence (AI) stands out as a game-changer, revolutionizing various industries and shaping the future of innovation. AI, the simulation of human intelligence processes by machines, has been at the forefront of cutting-edge developments, driving unprecedented advancements in machine learning and deep learning algorithms.\n",
       "\n",
       "## Latest Trends in Artificial Intelligence\n",
       "\n",
       "One of the most significant trends in AI is the continuous evolution of machine learning techniques, enabling computers to learn from data and make decisions without explicit programming. This has paved the way for the rise of deep learning algorithms, which mimic the human brain's neural networks to achieve remarkable feats in speech recognition, image classification, and natural language processing.\n",
       "\n",
       "Moreover, the integration of AI across different sectors such as healthcare, finance, and transportation has been transformative. From personalized medicine and predictive analytics to fraud detection and autonomous vehicles, AI-powered solutions are reshaping the way industries operate, enhancing efficiency, and driving innovation.\n",
       "\n",
       "## Key Players in Artificial Intelligence\n",
       "\n",
       "Leading the charge in the AI landscape are tech giants like Google, Amazon, Microsoft, and IBM, investing heavily in AI research and development to drive innovation and create impactful solutions. These companies are leveraging AI to enhance their products and services, from smart algorithms powering search engines to intelligent cloud computing platforms.\n",
       "\n",
       "Alongside established players, startups are making waves with innovative AI solutions, disrupting traditional industries and driving technological advancements. These nimble and agile companies are pushing the boundaries of AI applications, from predictive analytics in finance to personalized healthcare solutions, showcasing the potential of AI-driven innovation.\n",
       "\n",
       "Furthermore, research institutions and academic centers play a crucial role in driving AI research forward, fostering collaboration and knowledge-sharing to propel the field towards new breakthroughs. From cutting-edge research in neural networks to ethical considerations in AI development, these institutions are shaping the future of AI and its impact on society.\n",
       "\n",
       "## Noteworthy News in Artificial Intelligence\n",
       "\n",
       "In the realm of AI ethics and responsible AI development, breakthroughs are being made to ensure that AI technologies are developed and deployed ethically and transparently. Initiatives such as the AI for Good Foundation's \"Ethical AI Principles\" provide guidelines for ethical AI implementation, promoting fairness, accountability, and transparency in AI systems.\n",
       "\n",
       "The impact of AI on job automation and workforce transformation continues to be a topic of discussion, with concerns about job displacement and the need for upskilling and reskilling in the workforce. As AI technologies automate routine tasks, organizations are faced with the challenge of adapting to the changing landscape and ensuring a smooth transition for employees.\n",
       "\n",
       "Moreover, regulatory developments and challenges in AI governance are shaping the future of AI policy and practice, with governments and industry stakeholders working together to establish frameworks for responsible AI use. From data privacy regulations to algorithmic transparency requirements, the regulatory landscape is evolving to address the ethical and legal implications of AI technologies.\n",
       "\n",
       "In conclusion, Artificial Intelligence is a driving force of innovation and transformation, with the latest trends, key players, and noteworthy news shaping the future of AI applications across industries. As professionals in the technology industry, AI enthusiasts, and business leaders look to leverage AI solutions, staying informed about the latest developments and understanding the practical applications of AI will be crucial in navigating the evolving landscape of AI technology.\n",
       "\n",
       "Remember to subscribe to newsletters or follow industry-leading AI blogs, explore AI solutions for your businesses or personal projects, and engage in discussions about the future of AI on social media platforms or industry forums to stay ahead of the curve in the world of Artificial Intelligence."
      ],
      "text/plain": [
       "<IPython.core.display.Markdown object>"
      ]
     },
     "execution_count": 12,
     "metadata": {},
     "output_type": "execute_result"
    }
   ],
   "source": [
    "from IPython.display import Markdown\n",
    "Markdown(result)"
   ]
  },
  {
   "cell_type": "markdown",
   "metadata": {},
   "source": [
    "## Try it Yourself\n",
    "\n",
    "- Pass in a topic of your choice and see what the agents come up with!"
   ]
  },
  {
   "cell_type": "code",
   "execution_count": 13,
   "metadata": {
    "height": 47
   },
   "outputs": [
    {
     "name": "stdout",
     "output_type": "stream",
     "text": [
      "\u001b[1m\u001b[95m [DEBUG]: == Working Agent: Content Planner\u001b[00m\n",
      "\u001b[1m\u001b[95m [INFO]: == Starting Task: 1. Prioritize the latest trends, key players, and noteworthy news on YOUR TOPIC HERE.\n",
      "2. Identify the target audience, considering their interests and pain points.\n",
      "3. Develop a detailed content outline including an introduction, key points, and a call to action.\n",
      "4. Include SEO keywords and relevant data or sources.\u001b[00m\n",
      "\n",
      "\n",
      "\u001b[1m> Entering new CrewAgentExecutor chain...\u001b[0m\n",
      "\u001b[32;1m\u001b[1;3mI now can give a great answer\n",
      "\n",
      "Final Answer: \n",
      "\n",
      "Content Plan Document\n",
      "\n",
      "Topic: The Importance of Mental Health in the Workplace\n",
      "\n",
      "1. Latest Trends, Key Players, and Noteworthy News:\n",
      "- Trends: Increased focus on mental health awareness in the workplace, implementation of mental health programs by companies, remote work challenges relating to mental health.\n",
      "- Key Players: Mental health organizations, HR professionals, workplace wellness experts.\n",
      "- Noteworthy News: Recent studies on the impact of mental health on productivity, stories of companies implementing successful mental health initiatives.\n",
      "\n",
      "2. Target Audience Analysis:\n",
      "- Target Audience: Working professionals in corporate settings, HR managers, business owners.\n",
      "- Interests: Improving workplace culture, employee well-being, productivity enhancement.\n",
      "- Pain Points: Stress, burnout, work-life balance issues, stigma around mental health discussions in the workplace.\n",
      "\n",
      "3. Content Outline:\n",
      "- Introduction:\n",
      "    - Definition of mental health in the workplace.\n",
      "    - Importance of addressing mental health issues in a professional setting.\n",
      "- Key Points:\n",
      "    1. Statistics on mental health prevalence in the workplace.\n",
      "    2. Benefits of promoting mental health at work.\n",
      "    3. Strategies for creating a mentally healthy workplace.\n",
      "    4. Case studies of companies with successful mental health initiatives.\n",
      "- Call to Action:\n",
      "    - Encouraging readers to prioritize mental health in their workplace and seek support/resources.\n",
      "  \n",
      "4. SEO Keywords and Sources:\n",
      "- SEO Keywords: Mental health in the workplace, workplace wellness, employee mental health, workplace mental health programs.\n",
      "- Sources: World Health Organization, American Psychological Association, Harvard Business Review, Forbes.\n",
      "\n",
      "This comprehensive content plan document includes all the necessary elements for creating an engaging and informative blog article on the importance of mental health in the workplace.\u001b[0m\n",
      "\n",
      "\u001b[1m> Finished chain.\u001b[0m\n",
      "\u001b[1m\u001b[92m [DEBUG]: == [Content Planner] Task output: Content Plan Document\n",
      "\n",
      "Topic: The Importance of Mental Health in the Workplace\n",
      "\n",
      "1. Latest Trends, Key Players, and Noteworthy News:\n",
      "- Trends: Increased focus on mental health awareness in the workplace, implementation of mental health programs by companies, remote work challenges relating to mental health.\n",
      "- Key Players: Mental health organizations, HR professionals, workplace wellness experts.\n",
      "- Noteworthy News: Recent studies on the impact of mental health on productivity, stories of companies implementing successful mental health initiatives.\n",
      "\n",
      "2. Target Audience Analysis:\n",
      "- Target Audience: Working professionals in corporate settings, HR managers, business owners.\n",
      "- Interests: Improving workplace culture, employee well-being, productivity enhancement.\n",
      "- Pain Points: Stress, burnout, work-life balance issues, stigma around mental health discussions in the workplace.\n",
      "\n",
      "3. Content Outline:\n",
      "- Introduction:\n",
      "    - Definition of mental health in the workplace.\n",
      "    - Importance of addressing mental health issues in a professional setting.\n",
      "- Key Points:\n",
      "    1. Statistics on mental health prevalence in the workplace.\n",
      "    2. Benefits of promoting mental health at work.\n",
      "    3. Strategies for creating a mentally healthy workplace.\n",
      "    4. Case studies of companies with successful mental health initiatives.\n",
      "- Call to Action:\n",
      "    - Encouraging readers to prioritize mental health in their workplace and seek support/resources.\n",
      "  \n",
      "4. SEO Keywords and Sources:\n",
      "- SEO Keywords: Mental health in the workplace, workplace wellness, employee mental health, workplace mental health programs.\n",
      "- Sources: World Health Organization, American Psychological Association, Harvard Business Review, Forbes.\n",
      "\n",
      "This comprehensive content plan document includes all the necessary elements for creating an engaging and informative blog article on the importance of mental health in the workplace.\n",
      "\n",
      "\u001b[00m\n",
      "\u001b[1m\u001b[95m [DEBUG]: == Working Agent: Content Writer\u001b[00m\n",
      "\u001b[1m\u001b[95m [INFO]: == Starting Task: 1. Use the content plan to craft a compelling blog post on YOUR TOPIC HERE.\n",
      "2. Incorporate SEO keywords naturally.\n",
      "3. Sections/Subtitles are properly named in an engaging manner.\n",
      "4. Ensure the post is structured with an engaging introduction, insightful body, and a summarizing conclusion.\n",
      "5. Proofread for grammatical errors and alignment with the brand's voice.\n",
      "\u001b[00m\n",
      "\n",
      "\n",
      "\u001b[1m> Entering new CrewAgentExecutor chain...\u001b[0m\n",
      "\u001b[32;1m\u001b[1;3mI now can give a great answer\n",
      "\n",
      "Final Answer:\n",
      "\n",
      "# The Importance of Mental Health in the Workplace\n",
      "\n",
      "In today's fast-paced and demanding work environments, mental health has become a critical issue that cannot be ignored. The latest trends show an increased focus on mental health awareness in the workplace, with many companies implementing mental health programs to support their employees. However, challenges still exist, especially with the rise of remote work and the impact it can have on mental well-being.\n",
      "\n",
      "### Addressing Mental Health in the Workplace\n",
      "\n",
      "Mental health in the workplace refers to the emotional, psychological, and social well-being of employees. It encompasses how employees think, feel, and act within their work environment. It is essential to address mental health issues in a professional setting because they can significantly impact employee well-being, productivity, and overall business success.\n",
      "\n",
      "### Statistics and Benefits\n",
      "\n",
      "Statistics on mental health prevalence in the workplace are staggering, with studies showing a rise in stress, anxiety, and depression among employees. Promoting mental health at work not only benefits individuals but also the organization as a whole. Employees who feel supported and valued are more engaged, motivated, and productive. Creating a mentally healthy workplace can lead to lower absenteeism, higher job satisfaction, and better overall performance.\n",
      "\n",
      "### Strategies and Case Studies\n",
      "\n",
      "To create a mentally healthy workplace, companies can implement various strategies such as providing mental health resources, training managers on mental health awareness, and fostering a culture of open communication and support. Many companies have already seen success with their mental health initiatives. Case studies of these companies can serve as inspiration and guidance for others looking to prioritize mental health in their workplace.\n",
      "\n",
      "### Call to Action\n",
      "\n",
      "As we navigate the complexities of the modern work environment, it is crucial to prioritize mental health in the workplace. I encourage readers, whether they are working professionals, HR managers, or business owners, to seek support and resources for mental health issues. By working together to create a supportive and inclusive workplace culture, we can ensure the well-being and success of all employees.\n",
      "\n",
      "In conclusion, the importance of mental health in the workplace cannot be overstated. By addressing mental health issues, promoting well-being, and implementing effective strategies, companies can create a positive and productive work environment for all. Let's continue to prioritize mental health and support each other in achieving holistic success.\u001b[0m\n",
      "\n",
      "\u001b[1m> Finished chain.\u001b[0m\n",
      "\u001b[1m\u001b[92m [DEBUG]: == [Content Writer] Task output: # The Importance of Mental Health in the Workplace\n",
      "\n",
      "In today's fast-paced and demanding work environments, mental health has become a critical issue that cannot be ignored. The latest trends show an increased focus on mental health awareness in the workplace, with many companies implementing mental health programs to support their employees. However, challenges still exist, especially with the rise of remote work and the impact it can have on mental well-being.\n",
      "\n",
      "### Addressing Mental Health in the Workplace\n",
      "\n",
      "Mental health in the workplace refers to the emotional, psychological, and social well-being of employees. It encompasses how employees think, feel, and act within their work environment. It is essential to address mental health issues in a professional setting because they can significantly impact employee well-being, productivity, and overall business success.\n",
      "\n",
      "### Statistics and Benefits\n",
      "\n",
      "Statistics on mental health prevalence in the workplace are staggering, with studies showing a rise in stress, anxiety, and depression among employees. Promoting mental health at work not only benefits individuals but also the organization as a whole. Employees who feel supported and valued are more engaged, motivated, and productive. Creating a mentally healthy workplace can lead to lower absenteeism, higher job satisfaction, and better overall performance.\n",
      "\n",
      "### Strategies and Case Studies\n",
      "\n",
      "To create a mentally healthy workplace, companies can implement various strategies such as providing mental health resources, training managers on mental health awareness, and fostering a culture of open communication and support. Many companies have already seen success with their mental health initiatives. Case studies of these companies can serve as inspiration and guidance for others looking to prioritize mental health in their workplace.\n",
      "\n",
      "### Call to Action\n",
      "\n",
      "As we navigate the complexities of the modern work environment, it is crucial to prioritize mental health in the workplace. I encourage readers, whether they are working professionals, HR managers, or business owners, to seek support and resources for mental health issues. By working together to create a supportive and inclusive workplace culture, we can ensure the well-being and success of all employees.\n",
      "\n",
      "In conclusion, the importance of mental health in the workplace cannot be overstated. By addressing mental health issues, promoting well-being, and implementing effective strategies, companies can create a positive and productive work environment for all. Let's continue to prioritize mental health and support each other in achieving holistic success.\n",
      "\n",
      "\u001b[00m\n",
      "\u001b[1m\u001b[95m [DEBUG]: == Working Agent: Editor\u001b[00m\n",
      "\u001b[1m\u001b[95m [INFO]: == Starting Task: Proofread the given blog post for grammatical errors and alignment with the brand's voice.\u001b[00m\n",
      "\n",
      "\n",
      "\u001b[1m> Entering new CrewAgentExecutor chain...\u001b[0m\n"
     ]
    },
    {
     "name": "stdout",
     "output_type": "stream",
     "text": [
      "\u001b[32;1m\u001b[1;3mI now can give a great answer\n",
      "\n",
      "Final Answer: \n",
      "# The Importance of Mental Health in the Workplace\n",
      "\n",
      "In today's fast-paced and demanding work environments, mental health has become a critical issue that cannot be ignored. The latest trends show an increased focus on mental health awareness in the workplace, with many companies implementing mental health programs to support their employees. However, challenges still exist, especially with the rise of remote work and the impact it can have on mental well-being.\n",
      "\n",
      "### Addressing Mental Health in the Workplace\n",
      "\n",
      "Mental health in the workplace refers to the emotional, psychological, and social well-being of employees. It encompasses how employees think, feel, and act within their work environment. It is essential to address mental health issues in a professional setting because they can significantly impact employee well-being, productivity, and overall business success.\n",
      "\n",
      "### Statistics and Benefits\n",
      "\n",
      "Statistics on mental health prevalence in the workplace are staggering, with studies showing a rise in stress, anxiety, and depression among employees. Promoting mental health at work not only benefits individuals but also the organization as a whole. Employees who feel supported and valued are more engaged, motivated, and productive. Creating a mentally healthy workplace can lead to lower absenteeism, higher job satisfaction, and better overall performance.\n",
      "\n",
      "### Strategies and Case Studies\n",
      "\n",
      "To create a mentally healthy workplace, companies can implement various strategies such as providing mental health resources, training managers on mental health awareness, and fostering a culture of open communication and support. Many companies have already seen success with their mental health initiatives. Case studies of these companies can serve as inspiration and guidance for others looking to prioritize mental health in their workplace.\n",
      "\n",
      "### Call to Action\n",
      "\n",
      "As we navigate the complexities of the modern work environment, it is crucial to prioritize mental health in the workplace. I encourage readers, whether they are working professionals, HR managers, or business owners, to seek support and resources for mental health issues. By working together to create a supportive and inclusive workplace culture, we can ensure the well-being and success of all employees.\n",
      "\n",
      "In conclusion, the importance of mental health in the workplace cannot be overstated. By addressing mental health issues, promoting well-being, and implementing effective strategies, companies can create a positive and productive work environment for all. Let's continue to prioritize mental health and support each other in achieving holistic success.\u001b[0m\n",
      "\n",
      "\u001b[1m> Finished chain.\u001b[0m\n",
      "\u001b[1m\u001b[92m [DEBUG]: == [Editor] Task output: # The Importance of Mental Health in the Workplace\n",
      "\n",
      "In today's fast-paced and demanding work environments, mental health has become a critical issue that cannot be ignored. The latest trends show an increased focus on mental health awareness in the workplace, with many companies implementing mental health programs to support their employees. However, challenges still exist, especially with the rise of remote work and the impact it can have on mental well-being.\n",
      "\n",
      "### Addressing Mental Health in the Workplace\n",
      "\n",
      "Mental health in the workplace refers to the emotional, psychological, and social well-being of employees. It encompasses how employees think, feel, and act within their work environment. It is essential to address mental health issues in a professional setting because they can significantly impact employee well-being, productivity, and overall business success.\n",
      "\n",
      "### Statistics and Benefits\n",
      "\n",
      "Statistics on mental health prevalence in the workplace are staggering, with studies showing a rise in stress, anxiety, and depression among employees. Promoting mental health at work not only benefits individuals but also the organization as a whole. Employees who feel supported and valued are more engaged, motivated, and productive. Creating a mentally healthy workplace can lead to lower absenteeism, higher job satisfaction, and better overall performance.\n",
      "\n",
      "### Strategies and Case Studies\n",
      "\n",
      "To create a mentally healthy workplace, companies can implement various strategies such as providing mental health resources, training managers on mental health awareness, and fostering a culture of open communication and support. Many companies have already seen success with their mental health initiatives. Case studies of these companies can serve as inspiration and guidance for others looking to prioritize mental health in their workplace.\n",
      "\n",
      "### Call to Action\n",
      "\n",
      "As we navigate the complexities of the modern work environment, it is crucial to prioritize mental health in the workplace. I encourage readers, whether they are working professionals, HR managers, or business owners, to seek support and resources for mental health issues. By working together to create a supportive and inclusive workplace culture, we can ensure the well-being and success of all employees.\n",
      "\n",
      "In conclusion, the importance of mental health in the workplace cannot be overstated. By addressing mental health issues, promoting well-being, and implementing effective strategies, companies can create a positive and productive work environment for all. Let's continue to prioritize mental health and support each other in achieving holistic success.\n",
      "\n",
      "\u001b[00m\n"
     ]
    }
   ],
   "source": [
    "topic = \"YOUR TOPIC HERE\"\n",
    "result = crew.kickoff(inputs={\"topic\": topic})"
   ]
  },
  {
   "cell_type": "code",
   "execution_count": 14,
   "metadata": {
    "height": 30
   },
   "outputs": [
    {
     "data": {
      "text/markdown": [
       "# The Importance of Mental Health in the Workplace\n",
       "\n",
       "In today's fast-paced and demanding work environments, mental health has become a critical issue that cannot be ignored. The latest trends show an increased focus on mental health awareness in the workplace, with many companies implementing mental health programs to support their employees. However, challenges still exist, especially with the rise of remote work and the impact it can have on mental well-being.\n",
       "\n",
       "### Addressing Mental Health in the Workplace\n",
       "\n",
       "Mental health in the workplace refers to the emotional, psychological, and social well-being of employees. It encompasses how employees think, feel, and act within their work environment. It is essential to address mental health issues in a professional setting because they can significantly impact employee well-being, productivity, and overall business success.\n",
       "\n",
       "### Statistics and Benefits\n",
       "\n",
       "Statistics on mental health prevalence in the workplace are staggering, with studies showing a rise in stress, anxiety, and depression among employees. Promoting mental health at work not only benefits individuals but also the organization as a whole. Employees who feel supported and valued are more engaged, motivated, and productive. Creating a mentally healthy workplace can lead to lower absenteeism, higher job satisfaction, and better overall performance.\n",
       "\n",
       "### Strategies and Case Studies\n",
       "\n",
       "To create a mentally healthy workplace, companies can implement various strategies such as providing mental health resources, training managers on mental health awareness, and fostering a culture of open communication and support. Many companies have already seen success with their mental health initiatives. Case studies of these companies can serve as inspiration and guidance for others looking to prioritize mental health in their workplace.\n",
       "\n",
       "### Call to Action\n",
       "\n",
       "As we navigate the complexities of the modern work environment, it is crucial to prioritize mental health in the workplace. I encourage readers, whether they are working professionals, HR managers, or business owners, to seek support and resources for mental health issues. By working together to create a supportive and inclusive workplace culture, we can ensure the well-being and success of all employees.\n",
       "\n",
       "In conclusion, the importance of mental health in the workplace cannot be overstated. By addressing mental health issues, promoting well-being, and implementing effective strategies, companies can create a positive and productive work environment for all. Let's continue to prioritize mental health and support each other in achieving holistic success."
      ],
      "text/plain": [
       "<IPython.core.display.Markdown object>"
      ]
     },
     "execution_count": 14,
     "metadata": {},
     "output_type": "execute_result"
    }
   ],
   "source": [
    "Markdown(result)"
   ]
  },
  {
   "cell_type": "markdown",
   "metadata": {},
   "source": [
    "<a name='1'></a>\n",
    " ## Other Popular Models as LLM for your Agents"
   ]
  },
  {
   "cell_type": "markdown",
   "metadata": {},
   "source": [
    "#### Hugging Face (HuggingFaceHub endpoint)\n",
    "\n",
    "```Python\n",
    "from langchain_community.llms import HuggingFaceHub\n",
    "\n",
    "llm = HuggingFaceHub(\n",
    "    repo_id=\"HuggingFaceH4/zephyr-7b-beta\",\n",
    "    huggingfacehub_api_token=\"<HF_TOKEN_HERE>\",\n",
    "    task=\"text-generation\",\n",
    ")\n",
    "\n",
    "### you will pass \"llm\" to your agent function\n",
    "```"
   ]
  },
  {
   "cell_type": "markdown",
   "metadata": {},
   "source": [
    "#### Mistral API\n",
    "\n",
    "```Python\n",
    "OPENAI_API_KEY=your-mistral-api-key\n",
    "OPENAI_API_BASE=https://api.mistral.ai/v1\n",
    "OPENAI_MODEL_NAME=\"mistral-small\"\n",
    "```"
   ]
  },
  {
   "cell_type": "markdown",
   "metadata": {},
   "source": [
    "#### Cohere\n",
    "\n",
    "```Python\n",
    "from langchain_community.chat_models import ChatCohere\n",
    "# Initialize language model\n",
    "os.environ[\"COHERE_API_KEY\"] = \"your-cohere-api-key\"\n",
    "llm = ChatCohere()\n",
    "\n",
    "### you will pass \"llm\" to your agent function\n",
    "```"
   ]
  },
  {
   "cell_type": "markdown",
   "metadata": {},
   "source": [
    "### For using Llama locally with Ollama and more, checkout the crewAI documentation on [Connecting to any LLM](https://docs.crewai.com/how-to/LLM-Connections/)."
   ]
  },
  {
   "cell_type": "code",
   "execution_count": null,
   "metadata": {
    "height": 30
   },
   "outputs": [],
   "source": []
  },
  {
   "cell_type": "code",
   "execution_count": null,
   "metadata": {
    "height": 30
   },
   "outputs": [],
   "source": []
  },
  {
   "cell_type": "code",
   "execution_count": null,
   "metadata": {
    "height": 30
   },
   "outputs": [],
   "source": []
  }
 ],
 "metadata": {
  "colab": {
   "gpuType": "T4",
   "provenance": []
  },
  "kernelspec": {
   "display_name": "Python 3 (ipykernel)",
   "language": "python",
   "name": "python3"
  },
  "language_info": {
   "codemirror_mode": {
    "name": "ipython",
    "version": 3
   },
   "file_extension": ".py",
   "mimetype": "text/x-python",
   "name": "python",
   "nbconvert_exporter": "python",
   "pygments_lexer": "ipython3",
   "version": "3.11.9"
  }
 },
 "nbformat": 4,
 "nbformat_minor": 4
}
